{
 "cells": [
  {
   "cell_type": "markdown",
   "metadata": {},
   "source": [
    "# RiverSIM"
   ]
  },
  {
   "cell_type": "markdown",
   "metadata": {},
   "source": [
    "## Import"
   ]
  },
  {
   "cell_type": "code",
   "execution_count": 1,
   "metadata": {},
   "outputs": [],
   "source": [
    "import riversim"
   ]
  },
  {
   "cell_type": "markdown",
   "metadata": {},
   "source": [
    "## Geometry primitives"
   ]
  },
  {
   "cell_type": "markdown",
   "metadata": {},
   "source": [
    "### Polar"
   ]
  },
  {
   "cell_type": "code",
   "execution_count": 2,
   "metadata": {},
   "outputs": [],
   "source": [
    "polar1 = riversim.Polar(1, 1)"
   ]
  },
  {
   "cell_type": "code",
   "execution_count": 3,
   "metadata": {},
   "outputs": [],
   "source": [
    "polar2 = riversim.Polar()"
   ]
  },
  {
   "cell_type": "code",
   "execution_count": 4,
   "metadata": {},
   "outputs": [
    {
     "output_type": "execute_result",
     "data": {
      "text/plain": "True"
     },
     "metadata": {},
     "execution_count": 4
    }
   ],
   "source": [
    "polar1 == polar1"
   ]
  },
  {
   "cell_type": "code",
   "execution_count": 5,
   "metadata": {},
   "outputs": [
    {
     "output_type": "execute_result",
     "data": {
      "text/plain": "False"
     },
     "metadata": {},
     "execution_count": 5
    }
   ],
   "source": [
    "polar1 != polar1"
   ]
  },
  {
   "cell_type": "code",
   "execution_count": 6,
   "metadata": {},
   "outputs": [],
   "source": [
    "polar1.phi = 2\n",
    "polar1.r = 20"
   ]
  },
  {
   "cell_type": "code",
   "execution_count": 7,
   "metadata": {},
   "outputs": [
    {
     "output_type": "execute_result",
     "data": {
      "text/plain": "2.0"
     },
     "metadata": {},
     "execution_count": 7
    }
   ],
   "source": [
    "polar1.phi"
   ]
  },
  {
   "cell_type": "code",
   "execution_count": 8,
   "metadata": {},
   "outputs": [
    {
     "output_type": "execute_result",
     "data": {
      "text/plain": "20.0"
     },
     "metadata": {},
     "execution_count": 8
    }
   ],
   "source": [
    "polar1.r"
   ]
  },
  {
   "cell_type": "markdown",
   "metadata": {},
   "source": [
    "### Point"
   ]
  },
  {
   "cell_type": "code",
   "execution_count": 9,
   "metadata": {},
   "outputs": [],
   "source": [
    "point0 = riversim.Point()\n",
    "point0.x = 0\n",
    "point0.y = 0"
   ]
  },
  {
   "cell_type": "code",
   "execution_count": 10,
   "metadata": {},
   "outputs": [
    {
     "output_type": "execute_result",
     "data": {
      "text/plain": "0.0"
     },
     "metadata": {},
     "execution_count": 10
    }
   ],
   "source": [
    "point0.norm()"
   ]
  },
  {
   "cell_type": "code",
   "execution_count": 11,
   "metadata": {},
   "outputs": [],
   "source": [
    "point1 = riversim.Point(1, 1)\n",
    "polar3 = riversim.ToPolar(point1)\n",
    "point2 = riversim.Point(point1)\n",
    "point3 = riversim.Point(polar1)"
   ]
  },
  {
   "cell_type": "code",
   "execution_count": 12,
   "metadata": {},
   "outputs": [
    {
     "output_type": "execute_result",
     "data": {
      "text/plain": "-1.4901161193847656e-08"
     },
     "metadata": {},
     "execution_count": 12
    }
   ],
   "source": [
    "point1.angle(point1)"
   ]
  },
  {
   "cell_type": "code",
   "execution_count": 13,
   "metadata": {},
   "outputs": [
    {
     "output_type": "execute_result",
     "data": {
      "text/plain": "2.0"
     },
     "metadata": {},
     "execution_count": 13
    }
   ],
   "source": [
    "(point1 + point1).x"
   ]
  },
  {
   "cell_type": "code",
   "execution_count": 14,
   "metadata": {},
   "outputs": [],
   "source": [
    "point1 - point1\n",
    "point1 * point1\n",
    "point1 * 10\n",
    "point1 -= point1\n",
    "point1 += point1\n",
    "point1 *= 10"
   ]
  },
  {
   "cell_type": "markdown",
   "metadata": {},
   "source": [
    "## Boundary"
   ]
  },
  {
   "cell_type": "markdown",
   "metadata": {},
   "source": [
    "### t_boundary"
   ]
  },
  {
   "cell_type": "code",
   "execution_count": 15,
   "metadata": {},
   "outputs": [
    {
     "output_type": "stream",
     "name": "stdout",
     "text": "DIRICHLET\nNEUMAN\n"
    }
   ],
   "source": [
    "bound_test = riversim.t_boundary()\n",
    "print(bound_test.DIRICHLET)\n",
    "print(bound_test.NEUMAN)"
   ]
  },
  {
   "cell_type": "code",
   "execution_count": 16,
   "metadata": {},
   "outputs": [
    {
     "output_type": "stream",
     "name": "stdout",
     "text": "DIRICHLET\n"
    }
   ],
   "source": [
    "print(riversim.t_boundary.DIRICHLET)"
   ]
  },
  {
   "cell_type": "code",
   "execution_count": 17,
   "metadata": {},
   "outputs": [
    {
     "output_type": "execute_result",
     "data": {
      "text/plain": "True"
     },
     "metadata": {},
     "execution_count": 17
    }
   ],
   "source": [
    "riversim.t_boundary.DIRICHLET == bound_test.DIRICHLET"
   ]
  },
  {
   "cell_type": "markdown",
   "metadata": {},
   "source": [
    "### BoundaryCondition"
   ]
  },
  {
   "cell_type": "code",
   "execution_count": 18,
   "metadata": {},
   "outputs": [],
   "source": [
    "bc_test = riversim.BoundaryCondition()\n",
    "bc_test.value = 100\n",
    "bc_test.type = riversim.t_boundary.NEUMAN"
   ]
  },
  {
   "cell_type": "markdown",
   "metadata": {},
   "source": [
    "### Test Map"
   ]
  },
  {
   "cell_type": "code",
   "execution_count": 19,
   "metadata": {},
   "outputs": [],
   "source": [
    "a = riversim.testMap()\n",
    "a[1] = 'sdf'"
   ]
  },
  {
   "cell_type": "markdown",
   "metadata": {},
   "source": [
    "### t_BoundaryConditions"
   ]
  },
  {
   "cell_type": "code",
   "execution_count": 20,
   "metadata": {},
   "outputs": [],
   "source": [
    "t_bcs = riversim.t_BoundaryConditions()"
   ]
  },
  {
   "cell_type": "code",
   "execution_count": 21,
   "metadata": {},
   "outputs": [],
   "source": [
    "bc_1 = riversim.BoundaryCondition()\n",
    "bc_1.value = 9.9\n",
    "bc_1.type = riversim.t_boundary.NEUMAN\n",
    "\n",
    "bc_2 = riversim.BoundaryCondition()\n",
    "bc_2.value = 13.8\n",
    "bc_2.type = riversim.t_boundary.DIRICHLET\n",
    "\n",
    "t_bcs[1] = bc_1\n",
    "t_bcs[2] = bc_2"
   ]
  },
  {
   "cell_type": "code",
   "execution_count": 22,
   "metadata": {},
   "outputs": [
    {
     "output_type": "stream",
     "name": "stdout",
     "text": "9.9\nNEUMAN\n"
    }
   ],
   "source": [
    "print(t_bcs[1].value)\n",
    "print(t_bcs[1].type)"
   ]
  },
  {
   "cell_type": "code",
   "execution_count": 23,
   "metadata": {},
   "outputs": [
    {
     "output_type": "stream",
     "name": "stdout",
     "text": "13.8\nDIRICHLET\n"
    }
   ],
   "source": [
    "print(t_bcs[2].value)\n",
    "print(t_bcs[2].type)"
   ]
  },
  {
   "cell_type": "code",
   "execution_count": 24,
   "metadata": {},
   "outputs": [
    {
     "output_type": "stream",
     "name": "stdout",
     "text": "9.9\nNEUMAN\n"
    }
   ],
   "source": [
    "t_bcs[1].value = 1\n",
    "print(t_bcs[1].value)\n",
    "print(t_bcs[1].type)"
   ]
  },
  {
   "cell_type": "markdown",
   "metadata": {},
   "source": [
    "#### This looks like working example\n",
    "\n",
    "getter and setter"
   ]
  },
  {
   "cell_type": "code",
   "execution_count": 25,
   "metadata": {},
   "outputs": [
    {
     "output_type": "stream",
     "name": "stdout",
     "text": "123.0\nDIRICHLET\n45.0\nNEUMAN\n"
    }
   ],
   "source": [
    "a = t_bcs[1]\n",
    "b = t_bcs[2]\n",
    "a.value = 123\n",
    "a.type = riversim.t_boundary.DIRICHLET\n",
    "b.value = 45\n",
    "b.type = riversim.t_boundary.NEUMAN\n",
    "t_bcs[1] = a\n",
    "t_bcs[2] = b\n",
    "print(t_bcs[1].value)\n",
    "print(t_bcs[1].type)\n",
    "print(t_bcs[2].value)\n",
    "print(t_bcs[2].type)"
   ]
  },
  {
   "cell_type": "markdown",
   "metadata": {},
   "source": [
    "deletion"
   ]
  },
  {
   "cell_type": "code",
   "execution_count": 26,
   "metadata": {},
   "outputs": [
    {
     "output_type": "error",
     "ename": "KeyError",
     "evalue": "'Invalid key'",
     "traceback": [
      "\u001b[0;31m---------------------------------------------------------------------------\u001b[0m",
      "\u001b[0;31mKeyError\u001b[0m                                  Traceback (most recent call last)",
      "\u001b[0;32m<ipython-input-26-3e0ad0c07ab5>\u001b[0m in \u001b[0;36m<module>\u001b[0;34m\u001b[0m\n\u001b[1;32m      1\u001b[0m \u001b[0;32mdel\u001b[0m \u001b[0mt_bcs\u001b[0m\u001b[0;34m[\u001b[0m\u001b[0;36m1\u001b[0m\u001b[0;34m]\u001b[0m\u001b[0;34m\u001b[0m\u001b[0;34m\u001b[0m\u001b[0m\n\u001b[0;32m----> 2\u001b[0;31m \u001b[0mt_bcs\u001b[0m\u001b[0;34m[\u001b[0m\u001b[0;36m1\u001b[0m\u001b[0;34m]\u001b[0m\u001b[0;34m\u001b[0m\u001b[0;34m\u001b[0m\u001b[0m\n\u001b[0m",
      "\u001b[0;31mKeyError\u001b[0m: 'Invalid key'"
     ]
    }
   ],
   "source": [
    "del t_bcs[1]\n",
    "t_bcs[1]"
   ]
  },
  {
   "cell_type": "markdown",
   "metadata": {},
   "source": [
    "count"
   ]
  },
  {
   "cell_type": "code",
   "execution_count": 27,
   "metadata": {},
   "outputs": [
    {
     "output_type": "stream",
     "name": "stdout",
     "text": "True\nFalse\n"
    }
   ],
   "source": [
    "print(2 in t_bcs)\n",
    "print(1 in t_bcs)"
   ]
  },
  {
   "cell_type": "markdown",
   "metadata": {},
   "source": [
    "### BoundaryConditions"
   ]
  },
  {
   "cell_type": "code",
   "execution_count": 31,
   "metadata": {},
   "outputs": [],
   "source": [
    "bcs = riversim.BoundaryConditions()"
   ]
  },
  {
   "cell_type": "markdown",
   "metadata": {},
   "source": [
    "#### lets check map methods, cos BoundaryConditions is child of t_BoundaryConditions"
   ]
  },
  {
   "cell_type": "markdown",
   "metadata": {},
   "source": [
    "##### getter and setter"
   ]
  },
  {
   "cell_type": "code",
   "execution_count": 45,
   "metadata": {},
   "outputs": [
    {
     "output_type": "stream",
     "name": "stdout",
     "text": "2000.0\n1200.0\n<riversim.BoundaryCondition object at 0x7f60ed3218d0>\n2\nTrue\nTrue\nFalse\nFalse\n"
    },
    {
     "output_type": "error",
     "ename": "KeyError",
     "evalue": "'Invalid key'",
     "traceback": [
      "\u001b[0;31m---------------------------------------------------------------------------\u001b[0m",
      "\u001b[0;31mKeyError\u001b[0m                                  Traceback (most recent call last)",
      "\u001b[0;32m<ipython-input-45-89bad76c7499>\u001b[0m in \u001b[0;36m<module>\u001b[0;34m\u001b[0m\n\u001b[1;32m     34\u001b[0m \u001b[0;32mdel\u001b[0m \u001b[0mbcs\u001b[0m\u001b[0;34m[\u001b[0m\u001b[0;36m1\u001b[0m\u001b[0;34m]\u001b[0m\u001b[0;34m\u001b[0m\u001b[0;34m\u001b[0m\u001b[0m\n\u001b[1;32m     35\u001b[0m \u001b[0mprint\u001b[0m\u001b[0;34m(\u001b[0m\u001b[0;36m1\u001b[0m \u001b[0;32min\u001b[0m \u001b[0mbcs\u001b[0m\u001b[0;34m)\u001b[0m\u001b[0;34m\u001b[0m\u001b[0;34m\u001b[0m\u001b[0m\n\u001b[0;32m---> 36\u001b[0;31m \u001b[0mbcs\u001b[0m\u001b[0;34m[\u001b[0m\u001b[0;36m1\u001b[0m\u001b[0;34m]\u001b[0m\u001b[0;34m\u001b[0m\u001b[0;34m\u001b[0m\u001b[0m\n\u001b[0m",
      "\u001b[0;31mKeyError\u001b[0m: 'Invalid key'"
     ]
    }
   ],
   "source": [
    "bc_1 = riversim.BoundaryCondition()\n",
    "bc_1.value = 1000\n",
    "bc_1.type = riversim.t_boundary.DIRICHLET\n",
    "\n",
    "bc_2 = riversim.BoundaryCondition()\n",
    "bc_2.value = 300\n",
    "bc_2.type = riversim.t_boundary.NEUMAN\n",
    "\n",
    "bcs[1] = bc_1\n",
    "bcs[2] = bc_2\n",
    "\n",
    "a = bcs[1]\n",
    "b = bcs[2]\n",
    "\n",
    "a.value = 2*a.value\n",
    "b.value = 4*b.value\n",
    "\n",
    "bcs[1] = a\n",
    "bcs[2] = b\n",
    "\n",
    "print(bcs[1].value)\n",
    "print(bcs[2].value)\n",
    "\n",
    "\n",
    "\n",
    "print(bcs[1])\n",
    "\n",
    "print(len(bcs))\n",
    "\n",
    "print(1 in bcs)\n",
    "print(2 in bcs)\n",
    "print(3 in bcs)\n",
    "\n",
    "del bcs[1]\n",
    "print(1 in bcs)\n",
    "bcs[1]"
   ]
  },
  {
   "cell_type": "markdown",
   "metadata": {},
   "source": [
    "#### Get method"
   ]
  },
  {
   "cell_type": "code",
   "execution_count": 46,
   "metadata": {},
   "outputs": [
    {
     "output_type": "execute_result",
     "data": {
      "text/plain": "<riversim.t_BoundaryConditions at 0x7f60ecc7a530>"
     },
     "metadata": {},
     "execution_count": 46
    }
   ],
   "source": [
    "bcs.Get(riversim.t_boundary.NEUMAN)"
   ]
  },
  {
   "cell_type": "code",
   "execution_count": null,
   "metadata": {},
   "outputs": [],
   "source": []
  }
 ],
 "metadata": {
  "language_info": {
   "codemirror_mode": {
    "name": "ipython",
    "version": 3
   },
   "file_extension": ".py",
   "mimetype": "text/x-python",
   "name": "python",
   "nbconvert_exporter": "python",
   "pygments_lexer": "ipython3",
   "version": "3.8.2-final"
  },
  "orig_nbformat": 2,
  "kernelspec": {
   "name": "python38264bit27c08f0fda034a588a9eef69c3fe68b6",
   "display_name": "Python 3.8.2 64-bit"
  }
 },
 "nbformat": 4,
 "nbformat_minor": 2
}