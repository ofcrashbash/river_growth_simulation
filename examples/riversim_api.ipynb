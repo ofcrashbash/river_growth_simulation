{
 "cells": [
  {
   "cell_type": "markdown",
   "metadata": {},
   "source": [
    "# RiverSIM"
   ]
  },
  {
   "cell_type": "markdown",
   "metadata": {},
   "source": [
    "## Import"
   ]
  },
  {
   "cell_type": "code",
   "execution_count": 1,
   "metadata": {},
   "outputs": [],
   "source": [
    "import riversim"
   ]
  },
  {
   "cell_type": "markdown",
   "metadata": {},
   "source": [
    "## Geometry primitives"
   ]
  },
  {
   "cell_type": "markdown",
   "metadata": {},
   "source": [
    "### Polar"
   ]
  },
  {
   "cell_type": "code",
   "execution_count": 2,
   "metadata": {},
   "outputs": [],
   "source": [
    "polar1 = riversim.Polar(1, 1)"
   ]
  },
  {
   "cell_type": "code",
   "execution_count": 3,
   "metadata": {},
   "outputs": [],
   "source": [
    "polar2 = riversim.Polar()"
   ]
  },
  {
   "cell_type": "code",
   "execution_count": 4,
   "metadata": {},
   "outputs": [
    {
     "output_type": "execute_result",
     "data": {
      "text/plain": "True"
     },
     "metadata": {},
     "execution_count": 4
    }
   ],
   "source": [
    "polar1 == polar1"
   ]
  },
  {
   "cell_type": "code",
   "execution_count": 5,
   "metadata": {},
   "outputs": [
    {
     "output_type": "execute_result",
     "data": {
      "text/plain": "False"
     },
     "metadata": {},
     "execution_count": 5
    }
   ],
   "source": [
    "polar1 != polar1"
   ]
  },
  {
   "cell_type": "code",
   "execution_count": 6,
   "metadata": {},
   "outputs": [],
   "source": [
    "polar1.phi = 2\n",
    "polar1.r = 20"
   ]
  },
  {
   "cell_type": "code",
   "execution_count": 7,
   "metadata": {},
   "outputs": [
    {
     "output_type": "execute_result",
     "data": {
      "text/plain": "2.0"
     },
     "metadata": {},
     "execution_count": 7
    }
   ],
   "source": [
    "polar1.phi"
   ]
  },
  {
   "cell_type": "code",
   "execution_count": 8,
   "metadata": {},
   "outputs": [
    {
     "output_type": "execute_result",
     "data": {
      "text/plain": "20.0"
     },
     "metadata": {},
     "execution_count": 8
    }
   ],
   "source": [
    "polar1.r"
   ]
  },
  {
   "cell_type": "markdown",
   "metadata": {},
   "source": [
    "### Point"
   ]
  },
  {
   "cell_type": "code",
   "execution_count": 9,
   "metadata": {},
   "outputs": [],
   "source": [
    "point0 = riversim.Point()\n",
    "point0.x = 0\n",
    "point0.y = 0"
   ]
  },
  {
   "cell_type": "code",
   "execution_count": 10,
   "metadata": {},
   "outputs": [
    {
     "output_type": "execute_result",
     "data": {
      "text/plain": "0.0"
     },
     "metadata": {},
     "execution_count": 10
    }
   ],
   "source": [
    "point0.norm()"
   ]
  },
  {
   "cell_type": "code",
   "execution_count": 11,
   "metadata": {},
   "outputs": [],
   "source": [
    "point1 = riversim.Point(1, 1)\n",
    "polar3 = riversim.ToPolar(point1)\n",
    "point2 = riversim.Point(point1)\n",
    "point3 = riversim.Point(polar1)"
   ]
  },
  {
   "cell_type": "code",
   "execution_count": 12,
   "metadata": {},
   "outputs": [
    {
     "output_type": "execute_result",
     "data": {
      "text/plain": "-1.4901161193847656e-08"
     },
     "metadata": {},
     "execution_count": 12
    }
   ],
   "source": [
    "point1.angle(point1)"
   ]
  },
  {
   "cell_type": "code",
   "execution_count": 13,
   "metadata": {},
   "outputs": [
    {
     "output_type": "execute_result",
     "data": {
      "text/plain": "2.0"
     },
     "metadata": {},
     "execution_count": 13
    }
   ],
   "source": [
    "(point1 + point1).x"
   ]
  },
  {
   "cell_type": "code",
   "execution_count": 14,
   "metadata": {},
   "outputs": [],
   "source": [
    "point1 - point1\n",
    "point1 * point1\n",
    "point1 * 10\n",
    "point1 -= point1\n",
    "point1 += point1\n",
    "point1 *= 10"
   ]
  },
  {
   "cell_type": "markdown",
   "metadata": {},
   "source": [
    "## Boundary"
   ]
  },
  {
   "cell_type": "markdown",
   "metadata": {},
   "source": [
    "### t_boundary"
   ]
  },
  {
   "cell_type": "code",
   "execution_count": 15,
   "metadata": {},
   "outputs": [
    {
     "output_type": "stream",
     "name": "stdout",
     "text": "DIRICHLET\nNEUMAN\n"
    }
   ],
   "source": [
    "bound_test = riversim.t_boundary()\n",
    "print(bound_test.DIRICHLET)\n",
    "print(bound_test.NEUMAN)"
   ]
  },
  {
   "cell_type": "code",
   "execution_count": 16,
   "metadata": {},
   "outputs": [
    {
     "output_type": "stream",
     "name": "stdout",
     "text": "DIRICHLET\n"
    }
   ],
   "source": [
    "print(riversim.t_boundary.DIRICHLET)"
   ]
  },
  {
   "cell_type": "code",
   "execution_count": 17,
   "metadata": {},
   "outputs": [
    {
     "output_type": "execute_result",
     "data": {
      "text/plain": "True"
     },
     "metadata": {},
     "execution_count": 17
    }
   ],
   "source": [
    "riversim.t_boundary.DIRICHLET == bound_test.DIRICHLET"
   ]
  },
  {
   "cell_type": "markdown",
   "metadata": {},
   "source": [
    "### BoundaryCondition"
   ]
  },
  {
   "cell_type": "code",
   "execution_count": 18,
   "metadata": {},
   "outputs": [],
   "source": [
    "bc_test = riversim.BoundaryCondition()\n",
    "bc_test.value = 100\n",
    "bc_test.type = riversim.t_boundary.NEUMAN"
   ]
  },
  {
   "cell_type": "markdown",
   "metadata": {},
   "source": [
    "### Test Map"
   ]
  },
  {
   "cell_type": "code",
   "execution_count": 19,
   "metadata": {},
   "outputs": [],
   "source": [
    "a = riversim.testMap()\n",
    "a[1] = 'sdf'"
   ]
  },
  {
   "cell_type": "markdown",
   "metadata": {},
   "source": [
    "### t_BoundaryConditions"
   ]
  },
  {
   "cell_type": "code",
   "execution_count": 20,
   "metadata": {},
   "outputs": [],
   "source": [
    "t_bcs = riversim.t_BoundaryConditions()"
   ]
  },
  {
   "cell_type": "code",
   "execution_count": 21,
   "metadata": {},
   "outputs": [],
   "source": [
    "bc_1 = riversim.BoundaryCondition()\n",
    "bc_1.value = 9.9\n",
    "bc_1.type = riversim.t_boundary.NEUMAN\n",
    "\n",
    "bc_2 = riversim.BoundaryCondition()\n",
    "bc_2.value = 13.8\n",
    "bc_2.type = riversim.t_boundary.DIRICHLET\n",
    "\n",
    "t_bcs[1] = bc_1\n",
    "t_bcs[2] = bc_2"
   ]
  },
  {
   "cell_type": "code",
   "execution_count": 22,
   "metadata": {},
   "outputs": [
    {
     "output_type": "stream",
     "name": "stdout",
     "text": "9.9\nNEUMAN\n"
    }
   ],
   "source": [
    "print(t_bcs[1].value)\n",
    "print(t_bcs[1].type)"
   ]
  },
  {
   "cell_type": "code",
   "execution_count": 23,
   "metadata": {},
   "outputs": [
    {
     "output_type": "stream",
     "name": "stdout",
     "text": "13.8\nDIRICHLET\n"
    }
   ],
   "source": [
    "print(t_bcs[2].value)\n",
    "print(t_bcs[2].type)"
   ]
  },
  {
   "cell_type": "code",
   "execution_count": 24,
   "metadata": {},
   "outputs": [
    {
     "output_type": "stream",
     "name": "stdout",
     "text": "3.0\nNEUMAN\n"
    }
   ],
   "source": [
    "t_bcs[1].value = 3\n",
    "print(t_bcs[1].value)\n",
    "print(t_bcs[1].type)"
   ]
  },
  {
   "cell_type": "markdown",
   "metadata": {},
   "source": [
    "#### This looks like working example\n",
    "\n",
    "getter and setter"
   ]
  },
  {
   "cell_type": "code",
   "execution_count": 25,
   "metadata": {},
   "outputs": [
    {
     "output_type": "stream",
     "name": "stdout",
     "text": "123.0\nDIRICHLET\n45.0\nNEUMAN\n"
    }
   ],
   "source": [
    "a = t_bcs[1]\n",
    "b = t_bcs[2]\n",
    "a.value = 123\n",
    "a.type = riversim.t_boundary.DIRICHLET\n",
    "b.value = 45\n",
    "b.type = riversim.t_boundary.NEUMAN\n",
    "t_bcs[1] = a\n",
    "t_bcs[2] = b\n",
    "print(t_bcs[1].value)\n",
    "print(t_bcs[1].type)\n",
    "print(t_bcs[2].value)\n",
    "print(t_bcs[2].type)"
   ]
  },
  {
   "cell_type": "markdown",
   "metadata": {},
   "source": [
    "without proxy"
   ]
  },
  {
   "cell_type": "code",
   "execution_count": 26,
   "metadata": {},
   "outputs": [
    {
     "output_type": "stream",
     "name": "stdout",
     "text": "124.0\nDIRICHLET\n44.0\nNEUMAN\n"
    }
   ],
   "source": [
    "t_bcs[1].value = 124\n",
    "t_bcs[1].type = riversim.t_boundary.DIRICHLET\n",
    "t_bcs[2].value = 44\n",
    "t_bcs[2].type = riversim.t_boundary.NEUMAN\n",
    "print(t_bcs[1].value)\n",
    "print(t_bcs[1].type)\n",
    "print(t_bcs[2].value)\n",
    "print(t_bcs[2].type)"
   ]
  },
  {
   "cell_type": "markdown",
   "metadata": {},
   "source": [
    "deletion"
   ]
  },
  {
   "cell_type": "code",
   "execution_count": 27,
   "metadata": {},
   "outputs": [
    {
     "output_type": "error",
     "ename": "KeyError",
     "evalue": "'Invalid key'",
     "traceback": [
      "\u001b[0;31m---------------------------------------------------------------------------\u001b[0m",
      "\u001b[0;31mKeyError\u001b[0m                                  Traceback (most recent call last)",
      "\u001b[0;32m<ipython-input-27-3e0ad0c07ab5>\u001b[0m in \u001b[0;36m<module>\u001b[0;34m\u001b[0m\n\u001b[1;32m      1\u001b[0m \u001b[0;32mdel\u001b[0m \u001b[0mt_bcs\u001b[0m\u001b[0;34m[\u001b[0m\u001b[0;36m1\u001b[0m\u001b[0;34m]\u001b[0m\u001b[0;34m\u001b[0m\u001b[0;34m\u001b[0m\u001b[0m\n\u001b[0;32m----> 2\u001b[0;31m \u001b[0mt_bcs\u001b[0m\u001b[0;34m[\u001b[0m\u001b[0;36m1\u001b[0m\u001b[0;34m]\u001b[0m\u001b[0;34m\u001b[0m\u001b[0;34m\u001b[0m\u001b[0m\n\u001b[0m",
      "\u001b[0;31mKeyError\u001b[0m: 'Invalid key'"
     ]
    }
   ],
   "source": [
    "del t_bcs[1]\n",
    "t_bcs[1]"
   ]
  },
  {
   "cell_type": "markdown",
   "metadata": {},
   "source": [
    "count"
   ]
  },
  {
   "cell_type": "code",
   "execution_count": 28,
   "metadata": {},
   "outputs": [
    {
     "output_type": "stream",
     "name": "stdout",
     "text": "True\nFalse\n"
    }
   ],
   "source": [
    "print(2 in t_bcs)\n",
    "print(1 in t_bcs)"
   ]
  },
  {
   "cell_type": "markdown",
   "metadata": {},
   "source": [
    "### BoundaryConditions"
   ]
  },
  {
   "cell_type": "code",
   "execution_count": 29,
   "metadata": {},
   "outputs": [],
   "source": [
    "bcs = riversim.BoundaryConditions()"
   ]
  },
  {
   "cell_type": "markdown",
   "metadata": {},
   "source": [
    "#### lets check map methods, cos BoundaryConditions is child of t_BoundaryConditions"
   ]
  },
  {
   "cell_type": "markdown",
   "metadata": {},
   "source": [
    "##### getter and setter"
   ]
  },
  {
   "cell_type": "code",
   "execution_count": 30,
   "metadata": {},
   "outputs": [
    {
     "output_type": "stream",
     "name": "stdout",
     "text": "2000.0\n1200.0\n<riversim.BoundaryCondition object at 0x7f24e5c00630>\n2\nTrue\nTrue\nFalse\nFalse\n"
    },
    {
     "output_type": "error",
     "ename": "KeyError",
     "evalue": "'Invalid key'",
     "traceback": [
      "\u001b[0;31m---------------------------------------------------------------------------\u001b[0m",
      "\u001b[0;31mKeyError\u001b[0m                                  Traceback (most recent call last)",
      "\u001b[0;32m<ipython-input-30-89bad76c7499>\u001b[0m in \u001b[0;36m<module>\u001b[0;34m\u001b[0m\n\u001b[1;32m     34\u001b[0m \u001b[0;32mdel\u001b[0m \u001b[0mbcs\u001b[0m\u001b[0;34m[\u001b[0m\u001b[0;36m1\u001b[0m\u001b[0;34m]\u001b[0m\u001b[0;34m\u001b[0m\u001b[0;34m\u001b[0m\u001b[0m\n\u001b[1;32m     35\u001b[0m \u001b[0mprint\u001b[0m\u001b[0;34m(\u001b[0m\u001b[0;36m1\u001b[0m \u001b[0;32min\u001b[0m \u001b[0mbcs\u001b[0m\u001b[0;34m)\u001b[0m\u001b[0;34m\u001b[0m\u001b[0;34m\u001b[0m\u001b[0m\n\u001b[0;32m---> 36\u001b[0;31m \u001b[0mbcs\u001b[0m\u001b[0;34m[\u001b[0m\u001b[0;36m1\u001b[0m\u001b[0;34m]\u001b[0m\u001b[0;34m\u001b[0m\u001b[0;34m\u001b[0m\u001b[0m\n\u001b[0m",
      "\u001b[0;31mKeyError\u001b[0m: 'Invalid key'"
     ]
    }
   ],
   "source": [
    "bc_1 = riversim.BoundaryCondition()\n",
    "bc_1.value = 1000\n",
    "bc_1.type = riversim.t_boundary.DIRICHLET\n",
    "\n",
    "bc_2 = riversim.BoundaryCondition()\n",
    "bc_2.value = 300\n",
    "bc_2.type = riversim.t_boundary.NEUMAN\n",
    "\n",
    "bcs[1] = bc_1\n",
    "bcs[2] = bc_2\n",
    "\n",
    "a = bcs[1]\n",
    "b = bcs[2]\n",
    "\n",
    "a.value = 2*a.value\n",
    "b.value = 4*b.value\n",
    "\n",
    "bcs[1] = a\n",
    "bcs[2] = b\n",
    "\n",
    "print(bcs[1].value)\n",
    "print(bcs[2].value)\n",
    "\n",
    "\n",
    "\n",
    "print(bcs[1])\n",
    "\n",
    "print(len(bcs))\n",
    "\n",
    "print(1 in bcs)\n",
    "print(2 in bcs)\n",
    "print(3 in bcs)\n",
    "\n",
    "del bcs[1]\n",
    "print(1 in bcs)\n",
    "bcs[1]"
   ]
  },
  {
   "cell_type": "markdown",
   "metadata": {},
   "source": [
    "#### Get method"
   ]
  },
  {
   "cell_type": "code",
   "execution_count": 31,
   "metadata": {},
   "outputs": [],
   "source": [
    "bcs = riversim.BoundaryConditions()\n",
    "\n",
    "bc_1 = riversim.BoundaryCondition()\n",
    "bc_1.value = 1;\n",
    "bc_1.type = riversim.t_boundary.NEUMAN\n",
    "\n",
    "bc_2 = riversim.BoundaryCondition()\n",
    "bc_2.value = 2;\n",
    "bc_2.type = riversim.t_boundary.DIRICHLET\n",
    "\n",
    "bc_3 = riversim.BoundaryCondition()\n",
    "bc_3.value = 3;\n",
    "bc_3.type = riversim.t_boundary.NEUMAN\n",
    "\n",
    "bc_4 = riversim.BoundaryCondition()\n",
    "bc_4.value = 4;\n",
    "bc_4.type = riversim.t_boundary.DIRICHLET\n",
    "\n",
    "bcs[1] = bc_1\n",
    "bcs[2] = bc_2\n",
    "bcs[3] = bc_3\n",
    "bcs[4] = bc_4"
   ]
  },
  {
   "cell_type": "code",
   "execution_count": 32,
   "metadata": {},
   "outputs": [],
   "source": [
    "bcs_neuman = bcs.Get(riversim.t_boundary.NEUMAN)"
   ]
  },
  {
   "cell_type": "code",
   "execution_count": 33,
   "metadata": {},
   "outputs": [
    {
     "output_type": "stream",
     "name": "stdout",
     "text": "NEUMAN\nNEUMAN\n2\n"
    }
   ],
   "source": [
    "print(bcs_neuman[1].type)\n",
    "print(bcs_neuman[3].type)\n",
    "print(len(bcs_neuman))"
   ]
  },
  {
   "cell_type": "markdown",
   "metadata": {},
   "source": [
    "### `t_source_coord` or porting `Pair`"
   ]
  },
  {
   "cell_type": "code",
   "execution_count": 34,
   "metadata": {},
   "outputs": [],
   "source": [
    "source_coord = riversim.t_source_coord()"
   ]
  },
  {
   "cell_type": "code",
   "execution_count": 35,
   "metadata": {},
   "outputs": [],
   "source": [
    "source_coord.boundary_id = 1"
   ]
  },
  {
   "cell_type": "code",
   "execution_count": 36,
   "metadata": {},
   "outputs": [],
   "source": [
    "source_coord.vert_pos = 2"
   ]
  },
  {
   "cell_type": "code",
   "execution_count": 37,
   "metadata": {},
   "outputs": [
    {
     "output_type": "stream",
     "name": "stdout",
     "text": "1\n2\n"
    }
   ],
   "source": [
    "print(source_coord.boundary_id)\n",
    "print(source_coord.vert_pos)"
   ]
  },
  {
   "cell_type": "markdown",
   "metadata": {},
   "source": [
    "### `t_sources_ids` or `vector` wrapper"
   ]
  },
  {
   "cell_type": "code",
   "execution_count": 38,
   "metadata": {},
   "outputs": [],
   "source": [
    "sources_ids = riversim.t_sources_ids()"
   ]
  },
  {
   "cell_type": "code",
   "execution_count": 39,
   "metadata": {},
   "outputs": [],
   "source": [
    "sources_ids.append(1)\n",
    "sources_ids.append(2)\n",
    "sources_ids.append(3)"
   ]
  },
  {
   "cell_type": "code",
   "execution_count": 40,
   "metadata": {},
   "outputs": [
    {
     "output_type": "stream",
     "name": "stdout",
     "text": "1\n2\n3\n3\n2\n"
    }
   ],
   "source": [
    "print(sources_ids[0])\n",
    "print(sources_ids[1])\n",
    "print(sources_ids[2])\n",
    "print(sources_ids[-1])\n",
    "print(sources_ids[-2])"
   ]
  },
  {
   "cell_type": "code",
   "execution_count": 41,
   "metadata": {},
   "outputs": [
    {
     "output_type": "execute_result",
     "data": {
      "text/plain": "3"
     },
     "metadata": {},
     "execution_count": 41
    }
   ],
   "source": [
    "len(sources_ids)"
   ]
  },
  {
   "cell_type": "code",
   "execution_count": 42,
   "metadata": {},
   "outputs": [],
   "source": [
    "del sources_ids[1]"
   ]
  },
  {
   "cell_type": "code",
   "execution_count": 43,
   "metadata": {},
   "outputs": [
    {
     "output_type": "execute_result",
     "data": {
      "text/plain": "2"
     },
     "metadata": {},
     "execution_count": 43
    }
   ],
   "source": [
    "len(sources_ids)"
   ]
  },
  {
   "cell_type": "markdown",
   "metadata": {},
   "source": [
    "### `t_Sources`"
   ]
  },
  {
   "cell_type": "code",
   "execution_count": 44,
   "metadata": {},
   "outputs": [],
   "source": [
    "sources = riversim.t_Sources()"
   ]
  },
  {
   "cell_type": "code",
   "execution_count": 45,
   "metadata": {},
   "outputs": [
    {
     "output_type": "execute_result",
     "data": {
      "text/plain": "0"
     },
     "metadata": {},
     "execution_count": 45
    }
   ],
   "source": [
    "len(sources)"
   ]
  },
  {
   "cell_type": "code",
   "execution_count": 46,
   "metadata": {},
   "outputs": [],
   "source": [
    "source_coord_1 = riversim.t_source_coord()\n",
    "source_coord_1.boundary_id = 1\n",
    "source_coord_1.vert_pos = 3\n",
    "\n",
    "source_coord_2 = riversim.t_source_coord()\n",
    "source_coord_2.boundary_id = 1\n",
    "source_coord_2.vert_pos = 4\n",
    "\n",
    "source_coord_3 = riversim.t_source_coord()\n",
    "source_coord_3.boundary_id = 2\n",
    "source_coord_3.vert_pos = 2\n",
    "\n",
    "sources[1] = source_coord_1\n",
    "sources[2] = source_coord_2\n",
    "sources[3] = source_coord_3"
   ]
  },
  {
   "cell_type": "code",
   "execution_count": 47,
   "metadata": {},
   "outputs": [
    {
     "output_type": "execute_result",
     "data": {
      "text/plain": "3"
     },
     "metadata": {},
     "execution_count": 47
    }
   ],
   "source": [
    "len(sources)"
   ]
  },
  {
   "cell_type": "code",
   "execution_count": 48,
   "metadata": {},
   "outputs": [
    {
     "output_type": "execute_result",
     "data": {
      "text/plain": "True"
     },
     "metadata": {},
     "execution_count": 48
    }
   ],
   "source": [
    "1 in sources"
   ]
  },
  {
   "cell_type": "markdown",
   "metadata": {},
   "source": [
    "### `Sources`"
   ]
  },
  {
   "cell_type": "code",
   "execution_count": 49,
   "metadata": {},
   "outputs": [],
   "source": [
    "source_coord_1 = riversim.t_source_coord()\n",
    "source_coord_1.boundary_id = 1\n",
    "source_coord_1.vert_pos = 3\n",
    "\n",
    "source_coord_2 = riversim.t_source_coord()\n",
    "source_coord_2.boundary_id = 1\n",
    "source_coord_2.vert_pos = 4\n",
    "\n",
    "source_coord_3 = riversim.t_source_coord()\n",
    "source_coord_3.boundary_id = 2\n",
    "source_coord_3.vert_pos = 2\n",
    "\n",
    "sources = riversim.Sources()\n",
    "sources[1] = source_coord_1\n",
    "sources[2] = source_coord_2\n",
    "sources[3] = source_coord_3"
   ]
  },
  {
   "cell_type": "code",
   "execution_count": 50,
   "metadata": {},
   "outputs": [],
   "source": [
    "sources_ids = sources.getSourcesIds()"
   ]
  },
  {
   "cell_type": "code",
   "execution_count": 51,
   "metadata": {},
   "outputs": [
    {
     "output_type": "execute_result",
     "data": {
      "text/plain": "3"
     },
     "metadata": {},
     "execution_count": 51
    }
   ],
   "source": [
    "sources_ids[2]"
   ]
  },
  {
   "cell_type": "markdown",
   "metadata": {},
   "source": [
    "### `Line`"
   ]
  },
  {
   "cell_type": "code",
   "execution_count": 52,
   "metadata": {},
   "outputs": [
    {
     "output_type": "stream",
     "name": "stdout",
     "text": "True\n10\n1\n2\n3\n"
    }
   ],
   "source": [
    "line1 = riversim.Line()\n",
    "\n",
    "line1.p1 = 1\n",
    "line1.p2 = 2\n",
    "line1.boundary_id = 10\n",
    "\n",
    "line2 = riversim.Line(line1)\n",
    "\n",
    "print(line1 == line2)\n",
    "print(line2.boundary_id)\n",
    "\n",
    "line3 = riversim.Line(1, 2, 3)\n",
    "print(line3.p1)\n",
    "print(line3.p2)\n",
    "print(line3.boundary_id)"
   ]
  },
  {
   "cell_type": "markdown",
   "metadata": {},
   "source": [
    "### `t_PointList`"
   ]
  },
  {
   "cell_type": "code",
   "execution_count": 53,
   "metadata": {},
   "outputs": [
    {
     "output_type": "stream",
     "name": "stdout",
     "text": "3\n"
    }
   ],
   "source": [
    "point_list = riversim.t_PointList()\n",
    "point_list.append(riversim.Point(1, 1))\n",
    "point_list.append(riversim.Point(2, 2))\n",
    "point_list.append(riversim.Point(3, 3))\n",
    "\n",
    "print(len(point_list))"
   ]
  },
  {
   "cell_type": "markdown",
   "metadata": {},
   "source": [
    "### `t_LineList`"
   ]
  },
  {
   "cell_type": "code",
   "execution_count": 54,
   "metadata": {},
   "outputs": [
    {
     "output_type": "stream",
     "name": "stdout",
     "text": "3\n"
    }
   ],
   "source": [
    "line_list = riversim.t_LineList()\n",
    "line_list.append(riversim.Line(1, 1, 1))\n",
    "line_list.append(riversim.Line(2, 2, 2))\n",
    "line_list.append(riversim.Line(3, 3, 3))\n",
    "\n",
    "print(len(line_list))"
   ]
  },
  {
   "cell_type": "markdown",
   "metadata": {},
   "source": [
    "### `SimpleBoundary`"
   ]
  },
  {
   "cell_type": "code",
   "execution_count": 55,
   "metadata": {},
   "outputs": [],
   "source": [
    "point_list = riversim.t_PointList()\n",
    "point_list.append(riversim.Point(0, 0))\n",
    "point_list.append(riversim.Point(0.25, 0))\n",
    "point_list.append(riversim.Point(1, 0))\n",
    "point_list.append(riversim.Point(1, 1))\n",
    "point_list.append(riversim.Point(0, 1))\n",
    "\n",
    "line_list = riversim.t_LineList()\n",
    "line_list.append(riversim.Line(1, 2, 1))\n",
    "line_list.append(riversim.Line(2, 3, 1))\n",
    "line_list.append(riversim.Line(3, 4, 1))\n",
    "line_list.append(riversim.Line(4, 5, 1))\n",
    "line_list.append(riversim.Line(5, 1, 1))\n",
    "\n",
    "holes_list = riversim.t_PointList()\n",
    "\n",
    "simple_boundary = riversim.SimpleBoundary()\n",
    "simple_boundary.vertices = point_list\n",
    "simple_boundary.lines = line_list\n",
    "simple_boundary.holes = holes_list\n",
    "\n",
    "simple_boundary.name = \"sdfsdf\"\n",
    "\n",
    "simple_boundary.inner_boundary = False\n",
    "\n",
    "point_in_list = riversim.t_PointList()\n",
    "point_in_list.append(riversim.Point(0.2, 0))\n",
    "point_in_list.append(riversim.Point(0.25, 0.1))\n",
    "point_in_list.append(riversim.Point(0.3, 0))\n",
    "\n",
    "line_in_list = riversim.t_LineList()\n",
    "line_in_list.append(riversim.Line(1, 2, 1))\n",
    "line_list.append(riversim.Line(2, 3, 1))\n",
    "\n",
    "in_boundary = riversim.SimpleBoundary()\n",
    "in_boundary.vertices = point_in_list\n",
    "in_boundary.lines = line_in_list\n",
    "\n",
    "in_boundary.name = \"insertion\"\n",
    "in_boundary.inner_boundary = False\n",
    "\n",
    "simple_boundary.ReplaceElement(1, in_boundary)\n",
    "\n",
    "#this will produce some strange boundary, but juss let test append function\n",
    "simple_boundary.Append(in_boundary)"
   ]
  },
  {
   "cell_type": "markdown",
   "metadata": {},
   "source": [
    "### `t_Boundaries`"
   ]
  },
  {
   "cell_type": "code",
   "execution_count": 56,
   "metadata": {},
   "outputs": [],
   "source": [
    "boundaries = riversim.t_Boundaries()\n",
    "\n",
    "boundaries[1] = simple_boundary\n",
    "boundaries[2] = in_boundary"
   ]
  },
  {
   "cell_type": "markdown",
   "metadata": {},
   "source": [
    "### `t_branch_source`"
   ]
  },
  {
   "cell_type": "code",
   "execution_count": 59,
   "metadata": {},
   "outputs": [],
   "source": [
    "branch_source = riversim.t_branch_source()\n",
    "\n",
    "branch_source.point = riversim.Point(0, 0)\n",
    "branch_source.angle = 0.01"
   ]
  },
  {
   "cell_type": "markdown",
   "metadata": {},
   "source": [
    "### `Boundaries`"
   ]
  },
  {
   "cell_type": "code",
   "execution_count": 65,
   "metadata": {},
   "outputs": [
    {
     "output_type": "stream",
     "name": "stdout",
     "text": "3\n1\n1\n0.25\n0.5\n1.5707963267948966\n0.7853981633974483\n3.9269908169872414\n"
    }
   ],
   "source": [
    "boundaries = riversim.Boundaries()\n",
    "\n",
    "sources = boundaries.MakeRectangularWithHole(1, 1, 0.25)\n",
    "print(len(sources))\n",
    "print(sources[1].boundary_id)\n",
    "print(sources[1].vert_pos)\n",
    "boundaries.Check()\n",
    "print(boundaries.GetOuterBoundary().vertices[1].x)\n",
    "print(boundaries.GetHolesList()[0].x)\n",
    "tree_int = boundaries.GetSourcesIdsPointsAndAngles(sources)\n",
    "print(tree_int[1].angle)\n",
    "print(tree_int[2].angle)\n",
    "print(tree_int[3].angle)"
   ]
  },
  {
   "cell_type": "code",
   "execution_count": null,
   "metadata": {},
   "outputs": [],
   "source": []
  }
 ],
 "metadata": {
  "language_info": {
   "codemirror_mode": {
    "name": "ipython",
    "version": 3
   },
   "file_extension": ".py",
   "mimetype": "text/x-python",
   "name": "python",
   "nbconvert_exporter": "python",
   "pygments_lexer": "ipython3",
   "version": "3.8.2-final"
  },
  "orig_nbformat": 2,
  "kernelspec": {
   "name": "python38264bit27c08f0fda034a588a9eef69c3fe68b6",
   "display_name": "Python 3.8.2 64-bit"
  }
 },
 "nbformat": 4,
 "nbformat_minor": 2
}